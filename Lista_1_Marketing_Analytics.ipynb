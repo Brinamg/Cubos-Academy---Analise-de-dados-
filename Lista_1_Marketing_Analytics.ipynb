{
  "nbformat": 4,
  "nbformat_minor": 0,
  "metadata": {
    "colab": {
      "provenance": []
    },
    "kernelspec": {
      "name": "python3",
      "display_name": "Python 3"
    },
    "language_info": {
      "name": "python"
    }
  },
  "cells": [
    {
      "cell_type": "markdown",
      "source": [
        "# Lista 1"
      ],
      "metadata": {
        "id": "mHN3Rx7VCAYV"
      }
    },
    {
      "cell_type": "markdown",
      "source": [
        "# Conceito - Marketing Analytics\n",
        "> **Marketing Analytics** é uma disciplina do marketing que trabalha com a coleta e a análise de dados para entender padrões, avaliar estratégias e tomar melhores decisões\n",
        "\n",
        "**Métricas**\n",
        "Uma métrica é um número que representa a medida que você vai acompanhar para entender o que dá certo (ou não) no seu trabalho.\n",
        "\n",
        "**KPI's**\n",
        "Key performance indicator, ou indicador chave de performance, é utilizado para avaliar se determinadas iniciativas, atitudes ou ações estão atendendo ou superando as expectativas da empresa ou departamento.\n",
        "\n",
        "**Meta**: A meta é um valor que se deseja ser alcando em um KPI.\n",
        "\n",
        "**Metricas constroem KPI's  e KPI's ajudam a atingir uma meta.**\n",
        "\n",
        "**Exemplo:**\n",
        "CTR é um KPI construído pelo número de cliques (métrica) e pelo número de impressões (métrica)\n",
        "\n",
        "\n"
      ],
      "metadata": {
        "id": "Bzm7fi4vG7Dc"
      }
    },
    {
      "cell_type": "markdown",
      "source": [
        "##CPM\n",
        "\n",
        "\n",
        " $$ CPM = \\dfrac{Custo Total}{(Visualizações/1000)}$$\n",
        "\n",
        "\n",
        "> CPM é a sigla para **custo por mil impressões**. É uma métrica utilizada para representar o gasto gerado a cada mil impressões do anúncio publicitário.\n",
        ">\n",
        ">**O CPM é utilizado em campanhas de empresas que desejam aumentar a sua consciência de marca.**"
      ],
      "metadata": {
        "id": "JqHZFRDFGxes"
      }
    },
    {
      "cell_type": "markdown",
      "source": [
        "\n",
        "##CTR\n",
        "\n",
        "$$CTR = \\dfrac{Cliques}{Visualizações}$$\n",
        "\n",
        "> Porcentagem de usuários que clicaram no seu link após visualizá-lo.\n",
        ">\n",
        ">É usado para **verificar desempenho de palavras-chave** e criativos.\n",
        ">\n",
        ">**CTR baixo pode indicar que não estamos alcançando o público certo** ou as imagens não estão boas para chamar a atenção de um possível cliente.\n"
      ],
      "metadata": {
        "id": "vMMTjAgKMaKH"
      }
    },
    {
      "cell_type": "markdown",
      "source": [
        "\n",
        "## CPC\n",
        "\n",
        "$$ CPC = \\dfrac{Custo Total}{Número De Cliques}$$\n",
        "\n",
        "> CPC é a sigla para **custo por clique**. Forma de cobrança de anúncios pagos na qual o pagamento é feito pelo número de cliques realizados.\n",
        ">\n",
        "> Adequado para quem deseja mais tráfego para a sua página, seja ela um site ou um blog.\n",
        "\n",
        "[Entenda mais sobre CPC no seguinte artigo](https://www.linksexperts.com.br/blog/o-que-e-cpc-custo-por-clique/#:~:text=O%20CPC%20ideal%20deve%20ser,reais%20devem%20retornar%20em%20vendas.)\n"
      ],
      "metadata": {
        "id": "kic3y1qiMdXM"
      }
    },
    {
      "cell_type": "markdown",
      "source": [
        "\n",
        "## CPA\n",
        "\n",
        "$$CPA = \\dfrac{Custo Investido}{Número De Conversões}$$\n",
        "\n",
        "> CPA quer dizer **custo por aquisição**. É a mais cara das métricas, pois você só pagará quando alcançar o objetivo final da sua campanha — seja ele o download de um material gratuito, uma venda, dentre outros.\n",
        ">\n",
        ">É um formato mais **indicado para quem já tem lucros de margens amplas em seus produtos**, pois o valor dos anúncios podem ser mais caros, uma vez que o anunciante só recebe quando a ação desejada é completada.  \n",
        "\n",
        "**Exemplo:**\n",
        "\n",
        "Digamos que você ofereça cursos online e que tenha gastado R\\\\$1500 com anúncios, obtendo R$50 matrículas. Qual o custo por aquisição?\n",
        "\n",
        "```\n",
        "CPA = 1500/50\n",
        "CPA = 30\n",
        "```\n"
      ],
      "metadata": {
        "id": "Gs6cs9AoMgom"
      }
    },
    {
      "cell_type": "markdown",
      "source": [
        "\n",
        "## CAC\n",
        "\n",
        "$$CAC = \\dfrac{InvestimentoEmMarketing + InvestimentoEmVendas}{NúmeroDeNovosClientes}$$\n",
        "\n",
        "> Sigla para o **custo de aquisição de clientes**. É o resultado da soma dos investimentos feitos em marketing e vendas dividida pelo número de clientes conquistados em um mesmo período.\n",
        ">\n",
        ">O objetivo desse número é **mostrar o quanto uma empresa investiu em dinheiro para conquistar um cliente**.\n",
        ">\n",
        ">Idealmente o CAC deve ser menor que o valor que o cliente paga em produto/serviço, para que a balança da empresa seja favorável. No entanto, muitos lugares tem estratégias de capitação de clientes com um CAC alto no início para depois reduzir quando a base de clientes foi criada.\n",
        "\n"
      ],
      "metadata": {
        "id": "Y_sq3uzZMjHK"
      }
    },
    {
      "cell_type": "markdown",
      "source": [
        "\n",
        "## Taxa de Rejeição\n",
        "\n",
        "$$Taxa de Rejeição = \\dfrac {Sessões Sem Interação}{Total De Sessões} * 100$$\n",
        "\n",
        "> É um percentual que **indica quantos visitantes acessaram uma única página do site de sua empresa e em seguida saíram, sem continuar a navegação em uma próxima página.**\n",
        "\n",
        "**Casos Possíveis**\n",
        ">Comparar a taxa de rejeição entre duas páginas de captura de leads que utilizam um mesmo formulário.\n",
        ">\n",
        "> Comparar a taxa de rejeição entre duas páginas de um mesmo conteúdo de um blog, porém com elementos visuais diferentes.\n",
        ">\n",
        "> Comparar a taxa de rejeição entre criativos diferentes que estão levando para uma mesma página de destino.\n",
        "\n",
        "**Exemplo:**\n",
        "\n",
        "Um site tem um total de 500 sessões e 100 sessões não tiveram interações.\n",
        "```\n",
        "Taxa de Rejeição = (100 / 500) x 100\n",
        "Taxa de Rejeição = 20%\n",
        "```"
      ],
      "metadata": {
        "id": "Cgl9snlmMlZE"
      }
    },
    {
      "cell_type": "markdown",
      "source": [
        "## ROAS\n",
        "\n",
        "$$ROAS = \\frac{Receita}{investimento \\ em \\ marketing}$$\n",
        "\n",
        "> ROAS é a sigla de Return on Advertising Spend, ou seja, Retorno do Investimento em Publicidade.   \n",
        "\n",
        "> O ROAS é, acima de tudo, um indicador do sucesso de uma campanha específica. Lucros baixos ou perdas geralmente são a prova máxima de que os anúncios devem ser melhorados. No entanto, o ROAS não fornece informações sobre o que pode melhorar o desempenho de um anúncio. Para isso, é melhor considerar métricas de engajamento mais específicas que geralmente são oferecidas pelas próprias plataformas de Google Adwords, Facebook Ads e Instagram Ads, tais como: impressões, visualizações, cliques e conversões."
      ],
      "metadata": {
        "id": "l_ZafxyLcQN_"
      }
    },
    {
      "cell_type": "markdown",
      "source": [
        "# Exercícios"
      ],
      "metadata": {
        "id": "O9aoc-Cs8lVP"
      }
    },
    {
      "cell_type": "markdown",
      "source": [
        "## Exercício 1\n",
        "\n",
        "Uma empresa deseja **aumentar** sua consciência de marca e para isso usará a estratégia de pagamentos de **custo por mil impressões**. O CPM a ser pago será de R\\$ 8,00 e a empresa quer  atingir 10 mil impressões.\n",
        "\n",
        "Qual será o custo total?"
      ],
      "metadata": {
        "id": "pGa32WvN814e"
      }
    },
    {
      "cell_type": "code",
      "source": [
        "# Calcule o custo total dado que o cpm = (custo_total/(impressoes/1000))\n",
        "\n",
        "\n",
        "# mostre custo_total\n",
        "\n",
        "cpm = 8\n",
        "impressoes = 10000\n",
        "custo_total = cpm*(impressoes/1000)\n",
        "print(custo_total)\n"
      ],
      "metadata": {
        "id": "w1PdDm6FGzOX",
        "colab": {
          "base_uri": "https://localhost:8080/"
        },
        "outputId": "73a1202c-6f48-4f14-e816-733410de6bd5"
      },
      "execution_count": null,
      "outputs": [
        {
          "output_type": "stream",
          "name": "stdout",
          "text": [
            "80.0\n"
          ]
        }
      ]
    },
    {
      "cell_type": "markdown",
      "source": [
        "## Exercício 2\n",
        "\n",
        "Certa empresa está em fase de análise de resultados das campanhas de marketing e está avaliando o CTR de um anúncio do google. Esse anúncio teve 1.500 cliques e 400.000 impressões.\n",
        "\n",
        "Qual o CTR?"
      ],
      "metadata": {
        "id": "M6MsK3cAFnq4"
      }
    },
    {
      "cell_type": "code",
      "source": [
        "# calcule o ctr dado que ctr = (cliques/impressoes) * 100\n",
        "impressoes = 400000\n",
        "cliques = 1500\n",
        "ctr = (cliques/impressoes) * 100\n",
        "# mostre o ctr\n",
        "\n",
        "print(ctr)\n",
        "\n",
        "## Conclusões: Das 400mil pessoas que visualizaram apenas 0.375% interagiu com o anuncio\n",
        "## Isso pode estar acontecendo porque podem estar atingindo o publico errado\n",
        "## Qual o publico que mais interage com o anuncio?\n",
        "## Identificar a area?\n",
        "## Escolaridade\n"
      ],
      "metadata": {
        "id": "YayE53aiGa5Q",
        "colab": {
          "base_uri": "https://localhost:8080/"
        },
        "outputId": "7e7ebcd1-6580-4fc9-e2a4-0becdfba10b6"
      },
      "execution_count": null,
      "outputs": [
        {
          "output_type": "stream",
          "name": "stdout",
          "text": [
            "0.375\n"
          ]
        }
      ]
    },
    {
      "cell_type": "markdown",
      "source": [
        "##Exercício 3\n",
        "O time de marketing de uma startup de tecnologia pretende implementar uma técnica de monitoramento do CPC para classificar o desempenho de alguns anúncios. Para isso, eles irão classificar anúncios da seguinte forma:\n",
        "1. CPC >=R\\$40,00 como \"precisa de ajuste\";\n",
        "2. CPC < R\\$40,00 e CPC >= que 20 como \"desempenho mediano/analisar CTR\"\n",
        "3. CPC < R\\$20,00 \"bom desempenho\"\n",
        "\n",
        "O time de marketing passou os seguintes dados:\n",
        "\n",
        "```python\n",
        "anuncio = {\"id\":1,\"investimento\":80.000, \"cliques\":800, \"impressoes\":12.000}\n",
        "```\n",
        "\n",
        "Implemente essa técnica em python e mostre os dados para o marketing"
      ],
      "metadata": {
        "id": "4lTC3cOaHEIP"
      }
    },
    {
      "cell_type": "code",
      "source": [
        "# Dados do anuncio\n",
        "anuncio = {\"id\":1,\"investimento\":80000, \"cliques\":100, \"impressoes\":12000}\n",
        "\n",
        "# Crie as variáveis investimento, cliques, impressoes\n",
        "cliques = anuncio[\"cliques\"]\n",
        "investimento = anuncio[\"investimento\"]\n",
        "\n",
        "# calcule o cpc\n",
        "cpc = investimento/cliques\n",
        "print(cpc)\n",
        "# implemente a recomendação utilizando condicionais\n",
        "if cpc >= 40.0:\n",
        "  anuncio[\"classificacao\"] = \"precisa de ajuste\"\n",
        "elif cpc < 40.0 and cpc >= 20.0:\n",
        "  anuncio[\"classificacao\"] =\"desempenho mediano/analisar CTR\"\n",
        "elif cpc < 20.0:\n",
        "  anuncio[\"classificacao\"] =\"bom desempenho\"\n",
        "\n",
        "anuncio"
      ],
      "metadata": {
        "id": "ePZA8NUxJgOw",
        "colab": {
          "base_uri": "https://localhost:8080/"
        },
        "outputId": "1b33a254-8406-413b-f155-8ca311fdd4d0"
      },
      "execution_count": null,
      "outputs": [
        {
          "output_type": "stream",
          "name": "stdout",
          "text": [
            "800.0\n"
          ]
        },
        {
          "output_type": "execute_result",
          "data": {
            "text/plain": [
              "{'id': 1,\n",
              " 'investimento': 80000,\n",
              " 'cliques': 100,\n",
              " 'impressoes': 12000,\n",
              " 'classificacao': 'precisa de ajuste'}"
            ]
          },
          "metadata": {},
          "execution_count": 9
        }
      ]
    },
    {
      "cell_type": "markdown",
      "source": [
        "## Exercicio 4\n",
        "Entendendo a media e a mediana:\n",
        "O time de marketing passou alguns dados das palavras chaves pesquisadas no google que trouxeram novos clientes e querem saber qual a média de clicks do anúncio e qual a mediana. Com base nesses dados\n",
        "\n",
        "1. Calcule a média de clicks;\n",
        "2. Calcule a mediana dos clicks;\n",
        "\n",
        "*OBSERVAÇÃO* Para calcular a média, basta somar os clicks e dividir pelo número de palavras-chave\n"
      ],
      "metadata": {
        "id": "eo944p5G68Zb"
      }
    },
    {
      "cell_type": "code",
      "source": [
        "anuncio =[\n",
        "    {\n",
        "        \"Query\": \"miratrix\",\n",
        "        \"Clicks\": 41,\n",
        "        \"Impressions\": 710,\n",
        "        \"CTR\": \"9.34%\",\n",
        "        \"Position\": 6.23\n",
        "    },\n",
        "    {\n",
        "        \"Query\": \"app marketing agency uk\",\n",
        "        \"Clicks\": 13,\n",
        "        \"Impressions\": 398,\n",
        "        \"CTR\": \"5.78%\",\n",
        "        \"Position\": 3.36\n",
        "    },\n",
        "    {\n",
        "        \"Query\": \"mobile marketing agency london\",\n",
        "        \"Clicks\": 11,\n",
        "        \"Impressions\": 2529,\n",
        "        \"CTR\": \"0.43%\",\n",
        "        \"Position\": 3.97\n",
        "    },\n",
        "    {\n",
        "        \"Query\": \"app marketing uk\",\n",
        "        \"Clicks\": 9,\n",
        "        \"Impressions\": 261,\n",
        "        \"CTR\": \"3.45%\",\n",
        "        \"Position\": 2.01\n",
        "    },\n",
        "    {\n",
        "        \"Query\": \"app marketing agency\",\n",
        "        \"Clicks\": 7,\n",
        "        \"Impressions\": 9860,\n",
        "        \"CTR\": \"0.07%\",\n",
        "        \"Position\": 39.21\n",
        "    },\n",
        "    {\n",
        "        \"Query\": \"mobile marketing agency\",\n",
        "        \"Clicks\": 7,\n",
        "        \"Impressions\": 5361,\n",
        "        \"CTR\": \"0.13%\",\n",
        "        \"Position\": 21.81\n",
        "    },\n",
        "    {\n",
        "        \"Query\": \"mobile app marketing agency\",\n",
        "        \"Clicks\": 5,\n",
        "        \"Impressions\": 6057,\n",
        "        \"CTR\": \"0.08%\",\n",
        "        \"Position\": 44.85\n",
        "    },\n",
        "    {\n",
        "        \"Query\": \"aso audit\",\n",
        "        \"Clicks\": 4,\n",
        "        \"Impressions\": 112,\n",
        "        \"CTR\": \"4.46%\",\n",
        "        \"Position\": 55.86\n",
        "    },\n",
        "    {\n",
        "        \"Query\": \"mobile advertising agency\",\n",
        "        \"Clicks\": 3,\n",
        "        \"Impressions\": 2085,\n",
        "        \"CTR\": \"0.19%\",\n",
        "        \"Position\": 25.14\n",
        "    }\n",
        "]"
      ],
      "metadata": {
        "id": "VUPj_FphBp3q"
      },
      "execution_count": null,
      "outputs": []
    },
    {
      "cell_type": "code",
      "source": [
        "## Calcule a média\n",
        "clicks = []\n",
        "soma = 0\n",
        "n=0\n",
        "for dicionario in range(len(anuncio)):\n",
        "    click = anuncio[dicionario][\"Clicks\"]\n",
        "    clicks.append(click)\n",
        "    soma+=click\n",
        "    n+=1\n",
        "\n",
        "media_clicks = soma/n\n",
        "print(media_clicks)\n"
      ],
      "metadata": {
        "id": "ZQ2f5oH9c-Ae",
        "colab": {
          "base_uri": "https://localhost:8080/"
        },
        "outputId": "28d9c171-a1b5-455c-95c3-5b970e1bb4bc"
      },
      "execution_count": null,
      "outputs": [
        {
          "output_type": "stream",
          "name": "stdout",
          "text": [
            "11.11111111111111\n"
          ]
        }
      ]
    },
    {
      "cell_type": "code",
      "source": [
        "# calcule a mediana\n",
        "n = len(clicks)\n",
        "clicks.sort()\n",
        "\n",
        "if n % 2 == 0:\n",
        "    mediana_1 = clicks[n//2]\n",
        "    mediana_2 = clicks[n//2 - 1]\n",
        "    mediana_clicks = (mediana_1 + mediana_2)/2\n",
        "else:\n",
        "    mediana_clicks = clicks[n//2]\n",
        "print(mediana_clicks)"
      ],
      "metadata": {
        "id": "zwIch_chc_Wu",
        "colab": {
          "base_uri": "https://localhost:8080/"
        },
        "outputId": "d8527e83-8f7f-4290-f195-61669f893286"
      },
      "execution_count": null,
      "outputs": [
        {
          "output_type": "stream",
          "name": "stdout",
          "text": [
            "7\n"
          ]
        }
      ]
    },
    {
      "cell_type": "markdown",
      "source": [
        "## Exercício 5\n",
        "Fazendo o planejando de marketing com o CPC\n",
        "para as próximas campanhas, o time de marketing vai utilizar o CPC com base nos clicks médios dos anúncios anteriores para fazer um investimento de 10 mil reais.\n",
        "\n",
        "Calcule o CPC com a média e com a mediana."
      ],
      "metadata": {
        "id": "c5wM7LXmOAhI"
      }
    },
    {
      "cell_type": "code",
      "source": [
        "## cpc com a media\n",
        "cpc_media_clicks = 10000/media_clicks\n",
        "print(cpc_media_clicks)\n"
      ],
      "metadata": {
        "id": "oFKc5Y37dDf-",
        "colab": {
          "base_uri": "https://localhost:8080/"
        },
        "outputId": "49806008-259a-499f-b820-35b14f94c627"
      },
      "execution_count": null,
      "outputs": [
        {
          "output_type": "stream",
          "name": "stdout",
          "text": [
            "900.0\n"
          ]
        }
      ]
    },
    {
      "cell_type": "code",
      "source": [
        "## cpc com a mediana\n",
        "cpc_mediana = investimento / mediana_clicks\n",
        "print(cpc_mediana)\n",
        "#conclusão: utilizar a media aqui, não é uma boa escolha porque os dados possuem valores extremos e a media não seria uma boa representação pontual desses dados"
      ],
      "metadata": {
        "id": "ibtpdJf8dE1-",
        "colab": {
          "base_uri": "https://localhost:8080/"
        },
        "outputId": "145a6445-78b4-4980-8560-1b826accaf52"
      },
      "execution_count": null,
      "outputs": [
        {
          "output_type": "stream",
          "name": "stdout",
          "text": [
            "1428.5714285714287\n"
          ]
        }
      ]
    },
    {
      "cell_type": "markdown",
      "source": [
        "## Exercício 6\n",
        "Dado que o marketing agora investiu 120 mil reais em anúncios e obteve 40 vendas, qual o custo de aquisição? Esse CPA está alto?"
      ],
      "metadata": {
        "id": "ZWvbapsMdH5G"
      }
    },
    {
      "cell_type": "code",
      "source": [
        "# Crie uma função para calcular o CPA=inestimento/conversoes\n",
        "def cpa(investimento, vendas):\n",
        "    return investimento/vendas\n",
        "\n",
        "valor_investido = 120000\n",
        "numero_de_vendas = 40\n",
        "valor_do_produto = 20000\n",
        "cpa = cpa(valor_investido, numero_de_vendas)\n",
        "cpa"
      ],
      "metadata": {
        "colab": {
          "base_uri": "https://localhost:8080/"
        },
        "id": "vZ0-zWHSdMZf",
        "outputId": "5b4ac16c-753b-47a4-9cac-04eda668053d"
      },
      "execution_count": null,
      "outputs": [
        {
          "output_type": "execute_result",
          "data": {
            "text/plain": [
              "3000.0"
            ]
          },
          "metadata": {},
          "execution_count": 3
        }
      ]
    },
    {
      "cell_type": "code",
      "source": [
        "# Crie uma função para calcular a receita=valor do produto*numero_vendas\n",
        "def receita(valor_do_produto, vendas):\n",
        "    return valor_do_produto * vendas\n",
        "\n",
        "# Crie uma função para calcular o ROAS= (receita - investimento) / investimento\n",
        "def roas(receita_vendas, investimento):\n",
        "    roas = (receita_vendas - investimento) / investimento\n",
        "    return roas\n",
        "\n",
        "\n",
        "\n",
        "receita = receita(valor_do_produto, numero_de_vendas)\n",
        "roas = roas(receita, valor_investido)\n",
        "roas\n",
        "\n",
        "## isso significa que para cada real investido em marketing conseguimos gerar 5,66 reais em vendas"
      ],
      "metadata": {
        "colab": {
          "base_uri": "https://localhost:8080/"
        },
        "id": "qiSGzb1kdNFO",
        "outputId": "1530d527-5b46-4d21-ff8e-c833b434c0b4"
      },
      "execution_count": null,
      "outputs": [
        {
          "output_type": "execute_result",
          "data": {
            "text/plain": [
              "5.666666666666667"
            ]
          },
          "metadata": {},
          "execution_count": 4
        }
      ]
    },
    {
      "cell_type": "markdown",
      "source": [
        "## Exercício 7\n",
        "Calcule o número de cliques que gerem um ROAS = 3, a um CPC = $R\\$1,00$ e dado que a receita é de $R\\$50.000,00$.\n",
        "\n",
        "$$ CPC=\\frac{investimento}{cliques} --> investimento = CPC*cliques $$\n",
        "\n",
        "$$ ROAS = \\frac{Receita}{investimento} --> ROAS*Investimento = Receita$$\n",
        "\n",
        "Colocando o Roas em função do número de cliques:\n",
        "\n",
        "$$ ROAS * CPC * cliques = Receita $$\n",
        "\n",
        "$$cliques = \\frac{Receita}{ROAS*CPC} $$\n",
        "\n",
        "> ROAS: Return on Advertising Spend\n",
        "\n"
      ],
      "metadata": {
        "id": "FiEwG4BFdcM-"
      }
    },
    {
      "cell_type": "code",
      "source": [
        "receita = 50000\n",
        "roas = 3\n",
        "cpc = 1\n",
        "cliques = receita / (roas*cpc)\n",
        "print(cliques)"
      ],
      "metadata": {
        "colab": {
          "base_uri": "https://localhost:8080/"
        },
        "id": "rV69ZL1mddH1",
        "outputId": "efbfc53e-6d8b-4527-9bcb-2d616683470b"
      },
      "execution_count": null,
      "outputs": [
        {
          "output_type": "stream",
          "name": "stdout",
          "text": [
            "16666.666666666668\n"
          ]
        }
      ]
    },
    {
      "cell_type": "markdown",
      "source": [
        "## What-IF\n",
        "Simulação What-If é uma ferramenta que cria variações de um mesmo cenário.\n",
        "Exemplo: Para um cenário de geração de receita onde a receita é\n",
        "\n",
        "$Receita = Valor do produto * Quantidade vendida$,\n",
        "\n",
        "O que acontece com a minha receita se eu vendar 1 produto? E se eu vender 10? E se eu vender 100?\n",
        "~~~python\n",
        "valor_do_produto = 100\n",
        "receita = 100 * 1 = 100\n",
        "receita = 100 * 10 = 1000\n",
        "receita = 100 * 100 = 10000\n",
        "~~~\n",
        "Outras perguntas que fazem sentido na análise What-IF:\n",
        "* Se minha empresa experimentasse um aumento de demanda nos anos de 2020 e 2021, o quanto meu lucro seria impactado?\n",
        "* Se o meu custo unitário aumentasse, seria preciso aumentar o preço do produto X em 10% para não ter perda significante na margem de lucro?\n"
      ],
      "metadata": {
        "id": "K_HW_wg5dnMm"
      }
    },
    {
      "cell_type": "markdown",
      "source": [
        "## Exercício 8\n",
        "Simulação What-IF: O gerente de marketing que entender quais os possíveis cenários da situação de Receita quando o número de clicks varia. Ele pediu que se testasse o número de clicks variando num intervalo de 0 até 100 mil."
      ],
      "metadata": {
        "id": "wP61RLE1dpze"
      }
    },
    {
      "cell_type": "code",
      "source": [
        "roas = 3\n",
        "cliques = [5000,10000,15000,20000,22000,21500,25000,30000,35000,40000,45000,50000]\n",
        "receitas = []\n",
        "for clique in cliques:\n",
        "    receit = cpc * clique * roas\n",
        "    receitas.append(receit)\n",
        "print(receitas)"
      ],
      "metadata": {
        "colab": {
          "base_uri": "https://localhost:8080/"
        },
        "id": "rPH0V1_Mdqrp",
        "outputId": "e0e40460-5d07-42bc-8a64-416e0f870b9b"
      },
      "execution_count": null,
      "outputs": [
        {
          "output_type": "stream",
          "name": "stdout",
          "text": [
            "[15000, 30000, 45000, 60000, 66000, 64500, 75000, 90000, 105000, 120000, 135000, 150000]\n"
          ]
        }
      ]
    }
  ]
}